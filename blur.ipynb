{
 "cells": [
  {
   "cell_type": "code",
   "execution_count": 2,
   "metadata": {},
   "outputs": [],
   "source": [
    "# loading library\n",
    "import cv2 as cv\n",
    "import numpy as np\n",
    "import matplotlib.pyplot as plt\n",
    "\n",
    "#size - in pixels, size of motion blur\n",
    "#angel - in degrees, direction of motion blur\n",
    "def motion_blur(image, size, angle):\n",
    "    k = np.zeros((size, size), dtype=np.float32)\n",
    "    k[ (size-1)// 2 , :] = np.ones(size, dtype=np.float32)\n",
    "    rotation_matrix = cv.getRotationMatrix2D( (size / 2 -0.5 , size / 2 -0.5 ) , angle, 1.0)\n",
    "    k = cv.warpAffine(k, rotation_matrix, (size, size) )\n",
    "    k = k * ( 1.0 / np.sum(k) )\n",
    "    return cv.filter2D(image, -1, k)\n",
    "\n",
    "def random_motion_blur(image, size=(0, 5)):\n",
    "    deg = 360 * np.random.random_sample() # random angle from 0 to 360\n",
    "    rad = np.random.randint(*size)        # random size within given interval\n",
    "    return motion_blur(image, rad, deg)\n",
    "\n",
    "def gaussian_blur(image, size=5):\n",
    "    return cv.GaussianBlur(image, (size, size), 0)\n"
   ]
  },
  {
   "cell_type": "code",
   "execution_count": 3,
   "metadata": {},
   "outputs": [],
   "source": [
    "def increase_brightness(image, value):\n",
    "    hsv = cv.cvtColor(image, cv.COLOR_BGR2HSV)\n",
    "    h, s, v = cv.split(hsv)\n",
    "\n",
    "    lim = 255 - value\n",
    "    v[v > lim] = 255\n",
    "    v[v <= lim] += value\n",
    "\n",
    "    final_hsv = cv.merge((h, s, v))\n",
    "    image = cv.cvtColor(final_hsv, cv.COLOR_HSV2BGR)\n",
    "    return image\n",
    "\n",
    "def decrease_brightness(image, value):\n",
    "    hsv = cv.cvtColor(image, cv.COLOR_BGR2HSV)\n",
    "    h, s, v = cv.split(hsv)\n",
    "\n",
    "    v[v <= value] = 0\n",
    "    v[v >  value] -= value\n",
    "\n",
    "    final_hsv = cv.merge((h, s, v))\n",
    "    image = cv.cvtColor(final_hsv, cv.COLOR_HSV2BGR)\n",
    "    return image\n",
    "\n",
    "def adjust_brightness(image, value):\n",
    "    return decrease_brightness(image, -1*value) if value < 0 else increase_brightness(image, value)\n",
    "\n",
    "def random_brightness(image, size=(-30, 30)):\n",
    "    adj = np.random.randint(*size) # random brightness adjustment\n",
    "    return adjust_brightness(image, adj)"
   ]
  },
  {
   "cell_type": "code",
   "execution_count": 4,
   "metadata": {},
   "outputs": [],
   "source": [
    "def create_effect(fn, *args, **kwargs):\n",
    "    return lambda img : fn(img, *args, **kwargs)\n",
    "\n",
    "def apply_effects(img, fxs):\n",
    "    for fx in fxs:\n",
    "        img = fx(img)\n",
    "    return img"
   ]
  },
  {
   "cell_type": "code",
   "execution_count": 8,
   "metadata": {},
   "outputs": [],
   "source": [
    "import os\n",
    "\n",
    "def generate_image_with_effects(in_dir, out_dir, fxs, pref=\"\"):\n",
    "    if not os.path.exists(out_dir):\n",
    "        os.makedirs(out_dir)\n",
    "        \n",
    "    for file in os.listdir(in_dir):\n",
    "        in_path = os.path.join(in_dir, file)\n",
    "        out_path = os.path.join(out_dir, pref + file)\n",
    "        \n",
    "        img = cv.imread(in_path)\n",
    "        img = apply_effects(img, fxs)\n",
    "        \n",
    "        cv.imwrite(out_path, img)\n",
    "        \n",
    "def show_three(src):\n",
    "    fig, axes = plt.subplots(nrows=1, ncols=3, figsize=(12,12), subplot_kw={'xticks': [], 'yticks': []})\n",
    "    for i, ax in enumerate(axes.flat):\n",
    "        ax.imshow(plt.imread(f\"{src}/0000{i+1}.jpg\"))\n",
    "\n",
    "    plt.tight_layout()\n",
    "    plt.show()\n",
    "    \n",
    "# img = cv.imread('./images/Positive/00001.jpg')\n",
    "\n",
    "# dec = create_effect(decrease_brightness, 14)\n",
    "# gau = create_effect(gaussian_blur,       17)\n",
    "\n",
    "# img = apply_effects(img, [dec, gau])\n",
    "\n",
    "# plt.imshow(random_motion_blur(img, (5, 50)))"
   ]
  },
  {
   "cell_type": "code",
   "execution_count": 10,
   "metadata": {},
   "outputs": [],
   "source": [
    "# random_brightness_effect = create_effect(random_brightness, size=(-80, 80))\n",
    "random_motion_blur_effect = create_effect(random_motion_blur, size=(1, 8))\n",
    "# generate_image_with_effects(\"./Utah/C\", \"./Utah/C\", [random_brightness_effect], pref=\"aa\")\n",
    "generate_image_with_effects(\"./Utah/C\", \"./Utah/C\", [random_motion_blur_effect], pref=\"ab\")"
   ]
  },
  {
   "cell_type": "code",
   "execution_count": 19,
   "metadata": {},
   "outputs": [
    {
     "name": "stdout",
     "output_type": "stream",
     "text": [
      "Accuracy: 0.48613\n",
      "Precision: 0.49276\n",
      "Recall: 0.945\n",
      "F1 Score: 0.64776\n"
     ]
    }
   ],
   "source": [
    "tn = 545\n",
    "tp = 18900\n",
    "fn = 20000 - tp\n",
    "fp = 20000 - tn\n",
    "\n",
    "tn /= 40000\n",
    "tp /= 40000\n",
    "fn /= 40000\n",
    "fp /= 40000\n",
    "\n",
    "# calculate the accuracy based on the number of true positives and true negatives\n",
    "accuracy = (tp + tn) / (tp + tn + fp + fn)\n",
    "# calculate the precision based on the number of true positives and false positives\n",
    "precision = tp / (tp + fp)\n",
    "# calculate the recall based on the number of true positives and the number of positives\n",
    "recall = tp / (tp + fn)\n",
    "# calculate the f1 score based on the precision and the recall\n",
    "f1_score = 2 * (precision * recall) / (precision + recall)\n",
    "\n",
    "print(f\"Accuracy: {round(accuracy, 5)}\")\n",
    "print(f\"Precision: {round(precision, 5)}\")\n",
    "print(f\"Recall: {round(recall, 5)}\")\n",
    "print(f\"F1 Score: {round(f1_score, 5)}\")"
   ]
  },
  {
   "cell_type": "code",
   "execution_count": null,
   "metadata": {},
   "outputs": [],
   "source": []
  }
 ],
 "metadata": {
  "kernelspec": {
   "display_name": "Python 3",
   "language": "python",
   "name": "python3"
  },
  "language_info": {
   "codemirror_mode": {
    "name": "ipython",
    "version": 3
   },
   "file_extension": ".py",
   "mimetype": "text/x-python",
   "name": "python",
   "nbconvert_exporter": "python",
   "pygments_lexer": "ipython3",
   "version": "3.9.10"
  }
 },
 "nbformat": 4,
 "nbformat_minor": 4
}
